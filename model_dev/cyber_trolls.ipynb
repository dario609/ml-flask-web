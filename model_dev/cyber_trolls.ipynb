{
 "cells": [
  {
   "cell_type": "code",
   "execution_count": 2,
   "metadata": {},
   "outputs": [],
   "source": [
    "from collections import Counter\n",
    "import matplotlib.pyplot as plt\n",
    "from bs4 import BeautifulSoup\n",
    "import pandas as pd\n",
    "import pickle \n",
    "import random\n",
    "import json\n",
    "import string\n",
    "import os\n",
    "\n",
    "from nltk.stem import WordNetLemmatizer \n",
    "from nltk.corpus import stopwords\n",
    "\n",
    "%config InlineBackend.figure_format = 'retina'\n",
    "%matplotlib inline"
   ]
  },
  {
   "cell_type": "code",
   "execution_count": 3,
   "metadata": {},
   "outputs": [
    {
     "data": {
      "text/plain": [
       "Counter({0: 12179, 1: 7822})"
      ]
     },
     "execution_count": 3,
     "metadata": {},
     "output_type": "execute_result"
    }
   ],
   "source": [
    "raw_data = []\n",
    "with open('./data/cyber_data.json') as f:\n",
    "    for line in f:\n",
    "        raw_data.append(json.loads(line))\n",
    "\n",
    "labels = [int(d['annotation']['label'][0]) for d in raw_data]\n",
    "text = [d['content'] for d in raw_data]\n",
    "\n",
    "Counter(labels) #  label counts"
   ]
  },
  {
   "cell_type": "code",
   "execution_count": 4,
   "metadata": {},
   "outputs": [],
   "source": [
    "data = {'text': text, 'label': labels }\n",
    "raw_df = pd.DataFrame(data, columns=['text', 'label'])"
   ]
  },
  {
   "cell_type": "code",
   "execution_count": 5,
   "metadata": {
    "scrolled": false
   },
   "outputs": [],
   "source": [
    "def clean_text(text):\n",
    "    \n",
    "    lemmatizer = WordNetLemmatizer()\n",
    "    punctuation = list(string.punctuation)\n",
    "    punctuation.extend(['.', \"’\", ','])\n",
    "    text = BeautifulSoup(text, 'html').text    \n",
    "    filtered_text = ' '.join([word.lower() for word in text.split() if word not in stopwords.words('english')])\n",
    "    filtered_text = ''.join([c for c in filtered_text if c not in punctuation])\n",
    "    filtered_text = ''.join([c for c in filtered_text if not c.isdigit()])\n",
    "    filtered_text = filtered_text.replace('-', ' ') \n",
    "    filtered_text = ' '.join([lemmatizer.lemmatize(w) for w in filtered_text.split()])\n",
    "    return filtered_text"
   ]
  },
  {
   "cell_type": "code",
   "execution_count": 6,
   "metadata": {},
   "outputs": [
    {
     "name": "stderr",
     "output_type": "stream",
     "text": [
      "//anaconda/lib/python3.5/site-packages/bs4/__init__.py:336: UserWarning: \"http://tinyurl.com/these-hats-are-damn-tradition\" looks like a URL. Beautiful Soup is not an HTTP client. You should probably use an HTTP client like requests to get the document behind the URL, and feed that document to Beautiful Soup.\n",
      "  ' that document to Beautiful Soup.' % decoded_markup\n",
      "//anaconda/lib/python3.5/site-packages/bs4/__init__.py:273: UserWarning: \"b'.'\" looks like a filename, not markup. You should probably open this file and pass the filehandle into Beautiful Soup.\n",
      "  ' Beautiful Soup.' % markup)\n",
      "//anaconda/lib/python3.5/site-packages/bs4/__init__.py:273: UserWarning: \"b'..'\" looks like a filename, not markup. You should probably open this file and pass the filehandle into Beautiful Soup.\n",
      "  ' Beautiful Soup.' % markup)\n",
      "//anaconda/lib/python3.5/site-packages/bs4/__init__.py:336: UserWarning: \"http://www.e-castig.com/index.php?r=C1o6s\" looks like a URL. Beautiful Soup is not an HTTP client. You should probably use an HTTP client like requests to get the document behind the URL, and feed that document to Beautiful Soup.\n",
      "  ' that document to Beautiful Soup.' % decoded_markup\n",
      "//anaconda/lib/python3.5/site-packages/bs4/__init__.py:336: UserWarning: \"http://files.formspring.me/profile/20100511/4bea173ca6455_thumb.jpg\" looks like a URL. Beautiful Soup is not an HTTP client. You should probably use an HTTP client like requests to get the document behind the URL, and feed that document to Beautiful Soup.\n",
      "  ' that document to Beautiful Soup.' % decoded_markup\n"
     ]
    }
   ],
   "source": [
    "df = raw_df.copy()\n",
    "df.text = df.text.apply(clean_text)"
   ]
  },
  {
   "cell_type": "code",
   "execution_count": 6,
   "metadata": {},
   "outputs": [],
   "source": [
    "def sample_data(df, n):\n",
    "    \"\"\"\n",
    "    display n samples data along with its labels\n",
    "    \"\"\"\n",
    "    for label in set(df.label):\n",
    "        subset = df[df.label == label]\n",
    "        rand_idxs = [random.randint(0, subset.shape[0]) for i in range(n)]\n",
    "        for idx in rand_idxs:\n",
    "            print('Label: {}\\nIndex: {}\\t{}\\n'.format(subset.iloc[idx]['label'], idx, subset.iloc[idx]['text']))"
   ]
  },
  {
   "cell_type": "code",
   "execution_count": 7,
   "metadata": {
    "scrolled": false
   },
   "outputs": [
    {
     "name": "stdout",
     "output_type": "stream",
     "text": [
      "Label: 0\n",
      "Index: 8883\tyes thanks asking\n",
      "\n",
      "Label: 0\n",
      "Index: 1613\tlmao u crazy as ily\n",
      "\n",
      "Label: 0\n",
      "Index: 11391\tquality sure\n",
      "\n",
      "Label: 0\n",
      "Index: 11502\tdo get annoyed people display bad manner\n",
      "\n",
      "Label: 1\n",
      "Index: 5406\tnever posted blog today guest blog day get program slut pink zebra lol loveee anyway\n",
      "\n",
      "Label: 1\n",
      "Index: 4254\tthat wa the most most beautiful christmas card i have ever received i mean damn\n",
      "\n",
      "Label: 1\n",
      "Index: 3840\tyea fuck around get as tapped tomorrow u keep talking reckless like\n",
      "\n",
      "Label: 1\n",
      "Index: 1055\tgay\n",
      "\n"
     ]
    }
   ],
   "source": [
    "sample_data(df, 4)"
   ]
  },
  {
   "cell_type": "markdown",
   "metadata": {},
   "source": [
    "May have to clean the data more carefully, but for now I am going to just go ahead and create the simple BoW model using a logistic regression model."
   ]
  },
  {
   "cell_type": "markdown",
   "metadata": {},
   "source": [
    "### bag-of-words model"
   ]
  },
  {
   "cell_type": "code",
   "execution_count": 8,
   "metadata": {},
   "outputs": [
    {
     "name": "stdout",
     "output_type": "stream",
     "text": [
      "Vectorizer Saved.\n"
     ]
    }
   ],
   "source": [
    "# experiment with CountVectorizer (bag-of-words model)\n",
    "from sklearn.feature_extraction.text import CountVectorizer\n",
    "from sklearn.model_selection import train_test_split\n",
    "\n",
    "\n",
    "def save_vectorizer(vectorizer, description):\n",
    "    \"\"\" saves bag-of-words vectorizer in model assets folder\n",
    "    \n",
    "    Attributes\n",
    "    -------------\n",
    "    \n",
    "        sklearn vectorizer: sklearn vectorizer\n",
    "        description: vectorizer version/descriptor\n",
    "    \"\"\"\n",
    "    \n",
    "    file = open(os.path.join(os.pardir, \"model_assets/vectorizer_{}.pkl\".format(description)), \"wb\")\n",
    "    pickle.dump(vectorizer, file)\n",
    "    print('Vectorizer Saved.')\n",
    "\n",
    "vectorizer = CountVectorizer()\n",
    "vectorizer.fit(df.text)\n",
    "\n",
    "save_vectorizer(vectorizer, 'test_v.0.0')    "
   ]
  },
  {
   "cell_type": "code",
   "execution_count": 9,
   "metadata": {},
   "outputs": [
    {
     "name": "stdout",
     "output_type": "stream",
     "text": [
      "Bag-of-words data shape (20001, 16653)\n"
     ]
    }
   ],
   "source": [
    "X = vectorizer.fit_transform(df.text) #  bag-of-words representation\n",
    "X = X.toarray()\n",
    "y = df.label\n",
    "\n",
    "print('{} {}'.format('Bag-of-words data shape', X.shape))"
   ]
  },
  {
   "cell_type": "code",
   "execution_count": 10,
   "metadata": {},
   "outputs": [
    {
     "data": {
      "text/plain": [
       "(20001, 16653)"
      ]
     },
     "execution_count": 10,
     "metadata": {},
     "output_type": "execute_result"
    }
   ],
   "source": [
    "X.shape"
   ]
  },
  {
   "cell_type": "code",
   "execution_count": 11,
   "metadata": {},
   "outputs": [
    {
     "name": "stdout",
     "output_type": "stream",
     "text": [
      "Train set shape (16000, 16653)\n",
      " Test set shape (4001, 16653)\n"
     ]
    }
   ],
   "source": [
    "X_train, X_test, y_train, y_test = train_test_split(X, y, test_size=0.20)\n",
    "\n",
    "print('{:>15s} {}'.format('Train set shape', X_train.shape))\n",
    "print('{:>15s} {}'.format('Test set shape', X_test.shape))"
   ]
  },
  {
   "cell_type": "code",
   "execution_count": 12,
   "metadata": {},
   "outputs": [
    {
     "data": {
      "image/png": "[encoded data removed]",
      "text/plain": [
       "<matplotlib.figure.Figure at 0x1130f04a8>"
      ]
     },
     "metadata": {
      "image/png": {
       "height": 316,
       "width": 892
      },
      "needs_background": "light"
     },
     "output_type": "display_data"
    }
   ],
   "source": [
    "# Distribution of labels train/test sets\n",
    "fig, axs = plt.subplots(1, 2, figsize=(15,5))\n",
    "\n",
    "train_count = Counter(y_train)\n",
    "axs[0].set_title('Distribution of CyberTrolls - Train set')\n",
    "axs[0].bar(list(train_count.keys())[0],\n",
    "           list(train_count.values())[0],\n",
    "           align='center',\n",
    "           color='g',\n",
    "           label='Non Cyber-Agressive')\n",
    "axs[0].bar(list(train_count.keys())[1],\n",
    "           list(train_count.values())[1],\n",
    "           align='center',\n",
    "           color='r',\n",
    "           label='Cyber-Agressive')\n",
    "axs[0].set_xticks(list(set(y_train)))\n",
    "axs[0].legend()\n",
    "\n",
    "\n",
    "test_count = Counter(y_test)\n",
    "axs[1].set_title('Distribution of CyberTrolls - Test set')\n",
    "axs[1].bar(list(test_count.keys())[0],\n",
    "           list(test_count.values())[0],\n",
    "           align='center',\n",
    "           color='g',\n",
    "           label='Non Cyber-Agressive')\n",
    "axs[1].bar(list(test_count.keys())[1],\n",
    "           list(test_count.values())[1],\n",
    "           align='center',\n",
    "           color='r',\n",
    "           label='Cyber-Agressive')\n",
    "axs[1].set_xticks(list(set(y_test)))\n",
    "axs[1].legend()\n",
    "\n",
    "plt.show()"
   ]
  },
  {
   "cell_type": "markdown",
   "metadata": {},
   "source": [
    "maybe try downsampling 'Non Cyber-Agressive' samples"
   ]
  },
  {
   "cell_type": "markdown",
   "metadata": {},
   "source": [
    "Random forrest is not a good choice when modeling a high dimensional data. "
   ]
  },
  {
   "cell_type": "code",
   "execution_count": 14,
   "metadata": {},
   "outputs": [],
   "source": [
    "# logistic regression model \n",
    "from sklearn.linear_model import LogisticRegressionCV\n",
    "from sklearn.metrics import confusion_matrix"
   ]
  },
  {
   "cell_type": "code",
   "execution_count": 15,
   "metadata": {},
   "outputs": [
    {
     "name": "stderr",
     "output_type": "stream",
     "text": [
      "[Parallel(n_jobs=2)]: Using backend ThreadingBackend with 2 concurrent workers.\n"
     ]
    },
    {
     "name": "stdout",
     "output_type": "stream",
     "text": [
      "max_iter reached after 170 seconds\n"
     ]
    },
    {
     "name": "stderr",
     "output_type": "stream",
     "text": [
      "//anaconda/lib/python3.5/site-packages/sklearn/linear_model/sag.py:337: ConvergenceWarning: The max_iter was reached which means the coef_ did not converge\n",
      "  \"the coef_ did not converge\", ConvergenceWarning)\n"
     ]
    },
    {
     "name": "stdout",
     "output_type": "stream",
     "text": [
      "max_iter reached after 171 seconds\n"
     ]
    },
    {
     "name": "stderr",
     "output_type": "stream",
     "text": [
      "//anaconda/lib/python3.5/site-packages/sklearn/linear_model/sag.py:337: ConvergenceWarning: The max_iter was reached which means the coef_ did not converge\n",
      "  \"the coef_ did not converge\", ConvergenceWarning)\n",
      "[Parallel(n_jobs=2)]: Done   2 out of   2 | elapsed:  2.9min remaining:    0.0s\n",
      "[Parallel(n_jobs=2)]: Done   2 out of   2 | elapsed:  2.9min finished\n",
      "//anaconda/lib/python3.5/site-packages/sklearn/linear_model/sag.py:337: ConvergenceWarning: The max_iter was reached which means the coef_ did not converge\n",
      "  \"the coef_ did not converge\", ConvergenceWarning)\n"
     ]
    },
    {
     "data": {
      "text/plain": [
       "LogisticRegressionCV(Cs=[10], class_weight=None, cv=2, dual=False,\n",
       "                     fit_intercept=True, intercept_scaling=1.0, l1_ratios=None,\n",
       "                     max_iter=100, multi_class='warn', n_jobs=2, penalty='l2',\n",
       "                     random_state=None, refit=True, scoring=None, solver='saga',\n",
       "                     tol=0.0001, verbose=1)"
      ]
     },
     "execution_count": 15,
     "metadata": {},
     "output_type": "execute_result"
    }
   ],
   "source": [
    "clf = LogisticRegressionCV(Cs=[10], solver='saga', cv=2, n_jobs=2, verbose=1)\n",
    "clf.fit(X_train, y_train)"
   ]
  },
  {
   "cell_type": "code",
   "execution_count": 16,
   "metadata": {},
   "outputs": [
    {
     "name": "stdout",
     "output_type": "stream",
     "text": [
      "     Train Accuracy: 0.83\n",
      "      Test Accuracy: 0.76\n"
     ]
    }
   ],
   "source": [
    "print('{:>20s} {:.2f}'.format('Train Accuracy:', clf.score(X_train, y_train)))\n",
    "print('{:>20s} {:.2f}'.format('Test Accuracy:', clf.score(X_test, y_test)))"
   ]
  },
  {
   "cell_type": "code",
   "execution_count": 17,
   "metadata": {},
   "outputs": [],
   "source": [
    "def save_model(clf, description):\n",
    "    \"\"\" saves classifier in /model_assets folder\n",
    "    \n",
    "    Attributes\n",
    "    -------------\n",
    "    \n",
    "        clf: Sklean classifier\n",
    "        description: model version/descriptor\n",
    "    \"\"\"\n",
    "    file = open(os.path.join(os.pardir, \"model_assets/model_{}.pkl\".format(description)), \"wb\")\n",
    "    pickle.dump(clf, file)\n",
    "    print('Model Saved.')"
   ]
  },
  {
   "cell_type": "code",
   "execution_count": 18,
   "metadata": {},
   "outputs": [
    {
     "name": "stdout",
     "output_type": "stream",
     "text": [
      "Model Saved.\n"
     ]
    }
   ],
   "source": [
    "save_model(clf, 'test_v.0.0')\n",
    "#save_vectorizer(vectorizer, 'test_V.0.0')"
   ]
  },
  {
   "cell_type": "code",
   "execution_count": null,
   "metadata": {},
   "outputs": [],
   "source": [
    "confusion_matrix(y_test, clf.predict(X_test))"
   ]
  },
  {
   "cell_type": "code",
   "execution_count": null,
   "metadata": {},
   "outputs": [],
   "source": []
  }
 ],
 "metadata": {
  "kernelspec": {
   "display_name": "Python 3",
   "language": "python",
   "name": "python3"
  },
  "language_info": {
   "codemirror_mode": {
    "name": "ipython",
    "version": 3
   },
   "file_extension": ".py",
   "mimetype": "text/x-python",
   "name": "python",
   "nbconvert_exporter": "python",
   "pygments_lexer": "ipython3",
   "version": "3.5.6"
  }
 },
 "nbformat": 4,
 "nbformat_minor": 2
}
