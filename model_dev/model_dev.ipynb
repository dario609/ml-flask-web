{
 "cells": [
  {
   "cell_type": "code",
   "execution_count": 22,
   "metadata": {},
   "outputs": [],
   "source": [
    "import os\n",
    "import sys\n",
    "\n",
    "import warnings \n",
    "warnings.filterwarnings('ignore')\n",
    "\n",
    "# include app-wide functions \n",
    "sys.path.append(os.path.dirname(os.path.dirname(os.path.abspath('utils.py'))))\n",
    "import utils\n",
    "\n",
    "from sklearn.feature_extraction.text import CountVectorizer\n",
    "from sklearn.model_selection import train_test_split\n",
    "from collections import Counter\n",
    "import matplotlib.pyplot as plt\n",
    "from bs4 import BeautifulSoup\n",
    "import pandas as pd\n",
    "import pickle \n",
    "import random\n",
    "import string\n",
    "import json\n",
    "\n",
    "%config InlineBackend.figure_format = 'retina'\n",
    "%matplotlib inline"
   ]
  },
  {
   "cell_type": "code",
   "execution_count": 23,
   "metadata": {},
   "outputs": [],
   "source": [
    "df = utils.load_data()  # cleaned dataset"
   ]
  },
  {
   "cell_type": "markdown",
   "metadata": {},
   "source": [
    "## some exploratory data analysis"
   ]
  },
  {
   "cell_type": "code",
   "execution_count": 24,
   "metadata": {},
   "outputs": [
    {
     "data": {
      "image/png": "[encoded data removed]",
      "text/plain": [
       "<matplotlib.figure.Figure at 0x1b64a3efd0>"
      ]
     },
     "metadata": {
      "image/png": {
       "height": 261,
       "width": 390
      },
      "needs_background": "light"
     },
     "output_type": "display_data"
    }
   ],
   "source": [
    "# distribution of cyber trolls vs non-cyber trolls\n",
    "counter = Counter(df.label)\n",
    "plt.title('Distribution of CyberTrolls - Train set')\n",
    "plt.bar(list(counter.keys())[0], list(counter.values())[0], align='center', color='g', label='Non Cyber-Agressive')\n",
    "plt.bar(list(counter.keys())[1], list(counter.values())[1], align='center', color='r', label='Cyber-Agressive')\n",
    "plt.xticks(list(set(df.label)))\n",
    "plt.legend()\n",
    "plt.show()"
   ]
  },
  {
   "cell_type": "code",
   "execution_count": 26,
   "metadata": {},
   "outputs": [
    {
     "name": "stdout",
     "output_type": "stream",
     "text": [
      "Label: 0\n",
      "Index: 3978\tomg wishthe bitch kocker lol\n",
      "\n",
      "Label: 0\n",
      "Index: 9074\tballfuck shes real get it vv\n",
      "\n",
      "Label: 0\n",
      "Index: 6092\tawww feel better hate wen tht happens\n",
      "\n",
      "Label: 0\n",
      "Index: 10289\twhat snack movie theatre\n",
      "\n",
      "Label: 0\n",
      "Index: 6512\tsurprise party u yes no why not\n",
      "\n",
      "Label: 0\n",
      "Index: 10345\ti dont know like pollyanna\n",
      "\n",
      "Label: 0\n",
      "Index: 11343\tsound puuurty legit\n",
      "\n",
      "Label: 0\n",
      "Index: 11527\thahahaha okay good like d ahhh\n",
      "\n",
      "Label: 0\n",
      "Index: 646\tloser buy winner month worth diaper hehehe\n",
      "\n",
      "Label: 0\n",
      "Index: 5433\tthe job sitch suck my husband carpenter who think building economy nobody\n",
      "\n",
      "Label: 1\n",
      "Index: 6496\texcited seeing remembered itv fa cup right god hate itv\n",
      "\n",
      "Label: 1\n",
      "Index: 3849\tgoddamn kjfuck time httptinyurlcomnvtl\n",
      "\n",
      "Label: 1\n",
      "Index: 4887\tturn i hate shopping too way many sound smell i want pee everything\n",
      "\n",
      "Label: 1\n",
      "Index: 2178\tnerd\n",
      "\n",
      "Label: 1\n",
      "Index: 2311\thaha i always say that girl i rock cock out hah\n",
      "\n",
      "Label: 1\n",
      "Index: 3936\tleft slut named kasumi\n",
      "\n",
      "Label: 1\n",
      "Index: 1689\ti clue ive stumbled upon i laughed as off might too httpisgdacz\n",
      "\n",
      "Label: 1\n",
      "Index: 5364\tsuper special i know sweetness sleep tonight i hate grad school i want out\n",
      "\n",
      "Label: 1\n",
      "Index: 3311\tawesome people flock me guess im cool fuck\n",
      "\n",
      "Label: 1\n",
      "Index: 5944\tcompared eeyore stupid bear demented pig i think he fine\n",
      "\n"
     ]
    }
   ],
   "source": [
    "# sample some of the online comments\n",
    "utils.sample_data(df, n=10)  # feature engineering (create number hashtags col?)"
   ]
  },
  {
   "cell_type": "code",
   "execution_count": 10,
   "metadata": {},
   "outputs": [
    {
     "name": "stdout",
     "output_type": "stream",
     "text": [
      "Cyber Trolls\n",
      "('i', 2981)\n",
      "('hate', 1313)\n",
      "('damn', 1059)\n",
      "('fuck', 1036)\n",
      "('as', 1022)\n",
      "\n",
      "Non Cyber Trolls\n",
      "('i', 3839)\n",
      "('hate', 1488)\n",
      "('damn', 1307)\n",
      "('im', 988)\n",
      "('like', 942)\n"
     ]
    }
   ],
   "source": [
    "# most common words by label\n",
    "trolls = Counter(' '.join(list(df[df.label == 1].text)).split())\n",
    "non_trolls = Counter(' '.join(list(df[df.label == 0].text)).split())\n",
    "\n",
    "print('Cyber Trolls')\n",
    "print(*trolls.most_common()[:5], sep='\\n')\n",
    "print('\\nNon Cyber Trolls')\n",
    "print(*non_trolls.most_common()[:5], sep='\\n')"
   ]
  },
  {
   "cell_type": "code",
   "execution_count": 3,
   "metadata": {},
   "outputs": [],
   "source": [
    "## Save vectorizer in ./model_assets\n",
    "utils.persist_vectorizer(vectorizer, 'test_v.0.0')    "
   ]
  },
  {
   "cell_type": "markdown",
   "metadata": {},
   "source": [
    "## text feature extractors"
   ]
  },
  {
   "cell_type": "code",
   "execution_count": 12,
   "metadata": {},
   "outputs": [
    {
     "name": "stdout",
     "output_type": "stream",
     "text": [
      "True\n"
     ]
    }
   ],
   "source": [
    "# bag-of-words encoding\n",
    "enc = utils.build_encoder(df.text, count_vectorizer=True)\n",
    "count_vectorized = enc.fit_transform(df.text).toarray()\n",
    "\n",
    "# tf-idf encoding\n",
    "enc = utils.build_encoder(df.text, tf_idf=True)\n",
    "tf_idf = enc.fit_transform(df.text).toarray()\n",
    "\n",
    "print(tf_idf.shape ==  count_vectorized.shape)"
   ]
  },
  {
   "cell_type": "markdown",
   "metadata": {},
   "source": [
    "# Model dev"
   ]
  },
  {
   "cell_type": "code",
   "execution_count": 15,
   "metadata": {},
   "outputs": [],
   "source": [
    "X_train, X_test, y_train, y_test = train_test_split(count_vectorized, df.label)"
   ]
  },
  {
   "cell_type": "code",
   "execution_count": 16,
   "metadata": {},
   "outputs": [
    {
     "data": {
      "image/png": "[encoded data removed]",
      "text/plain": [
       "<matplotlib.figure.Figure at 0x1a14e8fc50>"
      ]
     },
     "metadata": {
      "image/png": {
       "height": 316,
       "width": 885
      },
      "needs_background": "light"
     },
     "output_type": "display_data"
    }
   ],
   "source": [
    "# Show of labels train/test sets\n",
    "fig, axs = plt.subplots(1, 2, figsize=(15,5))\n",
    "\n",
    "train_count = Counter(y_train)\n",
    "axs[0].set_title('Distribution of CyberTrolls - Train set')\n",
    "axs[0].bar(list(train_count.keys())[0], list(train_count.values())[0], align='center', color='g', label='Non Cyber-Agressive')\n",
    "axs[0].bar(list(train_count.keys())[1], list(train_count.values())[1], align='center', color='r', label='Cyber-Agressive')\n",
    "axs[0].set_xticks(list(set(y_train)))\n",
    "axs[0].legend()\n",
    "\n",
    "test_count = Counter(y_test)\n",
    "axs[1].set_title('Distribution of CyberTrolls - Test set')\n",
    "axs[1].bar(list(test_count.keys())[0], list(test_count.values())[0], align='center', color='g', label='Non Cyber-Agressive')\n",
    "axs[1].bar(list(test_count.keys())[1], list(test_count.values())[1], align='center', color='r', label='Cyber-Agressive')\n",
    "axs[1].set_xticks(list(set(y_test)))\n",
    "axs[1].legend()\n",
    "\n",
    "plt.show()"
   ]
  },
  {
   "cell_type": "code",
   "execution_count": 84,
   "metadata": {},
   "outputs": [],
   "source": [
    "from sklearn.linear_model import LogisticRegression\n",
    "from sklearn.metrics import confusion_matrix\n",
    "\n",
    "def display_results(clf, data):\n",
    "    \"\"\" Prints testing and training accuracies along with other model \n",
    "        validation metrics.\n",
    "    \n",
    "    Parameters\n",
    "    ---------------\n",
    "        clf: (scikit-learn model) predictive model to test\n",
    "        data: (dict) training and testing data for model\n",
    "        \n",
    "        \n",
    "    \"\"\"\n",
    "    train_accuracy = clf.score(data['X_train'], data['y_train'])\n",
    "    test_accuracy = clf.score(data['X_test'], data['y_test'])\n",
    "    y_pred = clf.predict(data['X_test'])\n",
    "        \n",
    "    print('{:>20s} {:.2f}'.format('Train Accuracy:', train_accuracy))\n",
    "    print('{:>20s} {:.2f}'.format('Test Accuracy:', test_accuracy))\n",
    "    print(confusion_matrix(data['y_test'], y_pred))\n",
    "    \n",
    "    \n",
    "\n",
    "# TODO: cross validation scores, precision/recall calculation\n",
    "def build_model(kind, data, **kwargs):\n",
    "    \"\"\" Builds Logistic Regression model \n",
    "    \n",
    "    Parameters\n",
    "    -------------\n",
    "        kind   : (str) indicating the model to build. The possible values are \n",
    "                       ('logistic', 'svc').\n",
    "        kwargs : (dict) of key value pairs of model build parameters\n",
    "        data   : (dict) containing training and testing sets e.g data['X_train']\n",
    "        returns: (clf) trained classifier\n",
    "\n",
    "    \"\"\"\n",
    "    if kind == 'logistic':\n",
    "        \n",
    "        print('Building Logistic Regression model.\\n')\n",
    "        clf = LogisticRegression(**kwargs)\n",
    "        clf.fit(data['X_train'], data['y_train']) \n",
    "        display_results(clf, data)\n",
    "        return clf\n",
    "    \n",
    "    if kind == 'svc':\n",
    "        \n",
    "        print('Building Support Vector Machine model.\\n')\n",
    "        clf = LinearSVC(**kwargs)\n",
    "        clf.fit(data['X_train'], data['y_train'])\n",
    "        display_results(clf, data)    \n",
    "        return clf\n"
   ]
  },
  {
   "cell_type": "code",
   "execution_count": 68,
   "metadata": {},
   "outputs": [],
   "source": [
    "# train/test data\n",
    "data = {\n",
    "    'X_train': X_train,\n",
    "    'X_test': X_test, \n",
    "    'y_train': y_train,\n",
    "    'y_test': y_test\n",
    "}"
   ]
  },
  {
   "cell_type": "code",
   "execution_count": 67,
   "metadata": {},
   "outputs": [
    {
     "name": "stdout",
     "output_type": "stream",
     "text": [
      "Building Logistic Regression model\n",
      "     Train Accuracy: 0.79\n",
      "      Test Accuracy: 0.74\n",
      "[[2597  463]\n",
      " [ 831 1110]]\n"
     ]
    }
   ],
   "source": [
    "# build logistic regression model params\n",
    "kwargs = {\n",
    "    'solver': 'saga',\n",
    "    'C': 0.3,\n",
    "    'n_jobs': 2,\n",
    "    'max_iter': 100\n",
    "}\n",
    "\n",
    "log_reg = build_model(kind='logistic', data=data, **kwargs)"
   ]
  },
  {
   "cell_type": "code",
   "execution_count": 85,
   "metadata": {},
   "outputs": [
    {
     "name": "stdout",
     "output_type": "stream",
     "text": [
      "Building Support Vector Machine model.\n",
      "\n",
      "     Train Accuracy: 0.97\n",
      "      Test Accuracy: 0.86\n",
      "[[2540  520]\n",
      " [ 185 1756]]\n"
     ]
    }
   ],
   "source": [
    "# svc params\n",
    "kwargs = {\n",
    "    'penalty': 'l2',\n",
    "    'loss': 'squared_hinge',\n",
    "    'C': 1.0,\n",
    "    'max_iter': 1000\n",
    "}\n",
    "\n",
    "svc = build_model(kind='svc', data=data, **kwargs)"
   ]
  },
  {
   "cell_type": "markdown",
   "metadata": {},
   "source": [
    "## save model and vectorizer"
   ]
  },
  {
   "cell_type": "code",
   "execution_count": 10,
   "metadata": {},
   "outputs": [
    {
     "name": "stdout",
     "output_type": "stream",
     "text": [
      "Model Saved.\n"
     ]
    }
   ],
   "source": [
    "persist_model(clf, 'test_v.0.0')\n",
    "persist_model(clf, 'test_v.0.0')"
   ]
  }
 ],
 "metadata": {
  "kernelspec": {
   "display_name": "Python 3",
   "language": "python",
   "name": "python3"
  },
  "language_info": {
   "codemirror_mode": {
    "name": "ipython",
    "version": 3
   },
   "file_extension": ".py",
   "mimetype": "text/x-python",
   "name": "python",
   "nbconvert_exporter": "python",
   "pygments_lexer": "ipython3",
   "version": "3.5.6"
  }
 },
 "nbformat": 4,
 "nbformat_minor": 2
}
